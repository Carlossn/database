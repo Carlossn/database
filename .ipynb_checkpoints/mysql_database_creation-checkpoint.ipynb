{
 "cells": [
  {
   "cell_type": "markdown",
   "metadata": {},
   "source": [
    "# MYSQL  - BASICS AND SECURITIES DB EXAMPLE"
   ]
  },
  {
   "cell_type": "markdown",
   "metadata": {},
   "source": [
    "# 1. MYSQL BASICS FOR PYTHON"
   ]
  },
  {
   "cell_type": "markdown",
   "metadata": {},
   "source": [
    "**Alert:** MySQL library uses Python 3.6>\n",
    "    \n"
   ]
  },
  {
   "cell_type": "markdown",
   "metadata": {},
   "source": [
    "**1) Download MySQL open source version:** https://dev.mysql.com/downloads/installer/\n",
    "\n",
    "https://downloads.mysql.com/docs/mysql-installation-excerpt-8.0-en.a4.pdf\n",
    "\n",
    "Select one of the following MySQL Installer package options:\n",
    "- Web: Contains MySQL Installer and configuration files only. \n",
    "    - The web package downloads only the MySQL products you select to install, but it requires an internet connection for each download. \n",
    "    - 2 MB file size  with name of the form \"mysql-installercommunity-web-VERSION.N.msi\"\n",
    "- Full: Bundles all of the MySQL products for Windows (including the MySQL server). \n",
    "    - The file size is over 300 MB, and its name has the form \"mysql-installer-community-VERSION.N.msi\"\n",
    "    \n",
    "**Good link:** https://www.youtube.com/watch?v=UgHRay7gN1g\n",
    "\n",
    "**2) Python needs a MySQL driver to access the MySQL database:**\n",
    "\n",
    "    pip install mysql-connector\n",
    "    \n",
    "\n",
    "\n",
    "**Tutorial Links**:\n",
    "- https://www.w3schools.com/python/python_mysql_getstarted.asp\n",
    "- http://www.mysqltutorial.org/python-mysql/"
   ]
  },
  {
   "cell_type": "markdown",
   "metadata": {},
   "source": [
    "## SQL Server Connection"
   ]
  },
  {
   "cell_type": "markdown",
   "metadata": {},
   "source": [
    "Firstly, check MySQL is running in the background => windows key + R => type \"services.msc\" enter and check for MysQL running.\n",
    "\n",
    "If SQL is running in the backgound, we have the next options to connect with MySQL server using Python:\n",
    "\n",
    "- a) Connecting directly with the server and an existent database:\n",
    "- b) Connecting only with the server\n",
    "- c) Connecting using config.ini login details (anonymous = hide details)"
   ]
  },
  {
   "cell_type": "code",
   "execution_count": 55,
   "metadata": {},
   "outputs": [],
   "source": [
    "# a) Connecting directly with the server and an existent database:\n",
    "import mysql.connector\n",
    "mydb = mysql.connector.connect(host='localhost', database='mysql', user='Carlossn',password='carlossn82')\n",
    "mydb # connectiong with database called mysql"
   ]
  },
  {
   "cell_type": "code",
   "execution_count": 57,
   "metadata": {},
   "outputs": [],
   "source": [
    "mydb.disconnect() # disconnect a current connection\n",
    "mydb.is_connected() # check"
   ]
  },
  {
   "cell_type": "code",
   "execution_count": 1,
   "metadata": {},
   "outputs": [],
   "source": [
    "# b) Connecting only with the server\n",
    "import mysql.connector\n",
    "mydb = mysql.connector.connect(host='localhost', user='Carlossn',password='carlossn82')\n",
    "mydb # no database connection at inception"
   ]
  },
  {
   "cell_type": "code",
   "execution_count": 4,
   "metadata": {},
   "outputs": [],
   "source": [
    "def connection_details(connector_name):\n",
    "    '''\n",
    "    Returns connection status and current session login details\n",
    "    Params\n",
    "    ------\n",
    "    Connector_name = string. Name of the mysql.connector.connect() object.\n",
    "    '''\n",
    "    var = eval(connector_name)\n",
    "    print('Connection check: ',var.is_connected())\n",
    "    print('Server Host: ', var.server_host)\n",
    "    print('Database:', var.database)\n",
    "    print('User: ', var.user)\n",
    "    print('Server Port: ', var.server_port)\n",
    "    print('Connection ID: ', var.connection_id)\n",
    "    print('Unix Socket: ', var.unix_socket)\n",
    "    print('Server Connection Character Set: ', var.charset)\n",
    "    print('Python Connection Character Set: ', var.python_charset)"
   ]
  },
  {
   "cell_type": "code",
   "execution_count": 3,
   "metadata": {},
   "outputs": [],
   "source": [
    "connection_details('mydb')"
   ]
  },
  {
   "cell_type": "code",
   "execution_count": 46,
   "metadata": {},
   "outputs": [],
   "source": [
    "mydb.disconnect()\n",
    "mydb.is_connected()"
   ]
  },
  {
   "cell_type": "code",
   "execution_count": 1,
   "metadata": {},
   "outputs": [],
   "source": [
    "# one column is integer BUT integer in python is not sql integer=> we need to create a class that transforms it\n",
    "import mysql.connector\n",
    "class NumpyMySQLConverter(mysql.connector.conversion.MySQLConverter):\n",
    "    \"\"\" A mysql.connector Converter that handles Numpy types \"\"\"\n",
    "\n",
    "    def _float32_to_mysql(self, value):\n",
    "        return float(value)\n",
    "\n",
    "    def _float64_to_mysql(self, value):\n",
    "        return float(value)\n",
    "\n",
    "    def _int32_to_mysql(self, value):\n",
    "        return int(value)\n",
    "\n",
    "    def _int64_to_mysql(self, value):\n",
    "        return int(value)\n",
    "    \n",
    "db.set_converter_class(NumpyMySQLConverter)"
   ]
  },
  {
   "cell_type": "code",
   "execution_count": 1,
   "metadata": {},
   "outputs": [],
   "source": [
    "# c)  Connecting using config.ini login details (anonymous = hide details)\n",
    "def connection_remote_config_file(path ,filename='config.ini', section='mysql', dbname=None):\n",
    "    ''' Read database configuration file and return a dictionary object\n",
    "    Param\n",
    "    -----\n",
    "    path: string with the windows location of the config file containing mysql's host, user and password details.\n",
    "    filename: string name of the configuration file. Default is finding a file named \"confi.ini\"\n",
    "    section: section of database configuration. Default is calling that section within the config file as \"mysql\"\n",
    "    dbname: string name of database name to connect. Default is None.\n",
    "    '''\n",
    "    from configparser import ConfigParser\n",
    "    import os\n",
    "    import mysql.connector\n",
    "    \n",
    "    # Move to the path to find the config file:\n",
    "    origin= str(os.getcwd())\n",
    "    os.chdir(path)\n",
    "    # create parser and read ini configuration file:\n",
    "    parser = ConfigParser()\n",
    "    parser.read(filename)\n",
    "    # get section, default to mysql:\n",
    "    mylog = {}\n",
    "    if parser.has_section(section):\n",
    "        items = parser.items(section)\n",
    "        for item in items:\n",
    "            mylog[item[0]] = item[1]\n",
    "    else:\n",
    "        raise Exception('{0} not found in the {1} file'.format(section, filename))\n",
    "    # enter log details and connect with sql server:\n",
    "    if dbname!=None:\n",
    "        mydb = mysql.connector.connect(host=mylog['host'], user=mylog['user'],\n",
    "                                       password=mylog['password'], database=dbname)\n",
    "    else:\n",
    "        mydb = mysql.connector.connect(host=mylog['host'], user=mylog['user'],\n",
    "                                       password=mylog['password'])\n",
    "        \n",
    "    os.chdir(origin) # go back to inception path\n",
    "    mydb.set_converter_class(NumpyMySQLConverter) # allow python floats and int to be accepted in mysql\n",
    "    return mydb"
   ]
  },
  {
   "cell_type": "code",
   "execution_count": 102,
   "metadata": {},
   "outputs": [],
   "source": [
    "mydb = connection_remote_config_file(path=\"C:\\\\Users\\\\Carlo\\\\Desktop\\\\SSH_KEYS\" ,filename='config.ini', section='mysql')\n",
    "connection_details('mydb')"
   ]
  },
  {
   "cell_type": "markdown",
   "metadata": {},
   "source": [
    "## BASIC DATABASE QUERIES"
   ]
  },
  {
   "cell_type": "markdown",
   "metadata": {},
   "source": [
    "Creating Database:"
   ]
  },
  {
   "cell_type": "code",
   "execution_count": 83,
   "metadata": {},
   "outputs": [],
   "source": [
    "mycursor = mydb.cursor(buffered=True) # buffered=True avoid connection loss after executing a query\n",
    "mycursor.execute(\"CREATE DATABASE test\")"
   ]
  },
  {
   "cell_type": "markdown",
   "metadata": {},
   "source": [
    "Check Databases in disk:"
   ]
  },
  {
   "cell_type": "code",
   "execution_count": 3,
   "metadata": {},
   "outputs": [],
   "source": [
    "def SHOW_DATABASES(Connector_name):\n",
    "    '''\n",
    "    Return databases in sql created up to date\n",
    "    Params\n",
    "    ------\n",
    "    Connector_name = string. Name of the mysql.connector.connect() object.\n",
    "    '''\n",
    "    conn= eval(Connector_name)\n",
    "    mycursor = conn.cursor()\n",
    "    mycursor.execute('SHOW DATABASES')\n",
    "    for x in mycursor:\n",
    "        print(x)"
   ]
  },
  {
   "cell_type": "code",
   "execution_count": 91,
   "metadata": {},
   "outputs": [],
   "source": [
    "SHOW_DATABASES('mydb')"
   ]
  },
  {
   "cell_type": "markdown",
   "metadata": {},
   "source": [
    "Delete databases"
   ]
  },
  {
   "cell_type": "code",
   "execution_count": 92,
   "metadata": {},
   "outputs": [],
   "source": [
    "mycursor = mydb.cursor(buffered=True) # buffered=True avoid connection loss after executing a query\n",
    "mycursor.execute(\"DROP DATABASE test\")\n",
    "\n",
    "SHOW_DATABASES('mydb')"
   ]
  },
  {
   "cell_type": "markdown",
   "metadata": {},
   "source": [
    "**From here it's only about applying SQL language queries**"
   ]
  },
  {
   "cell_type": "markdown",
   "metadata": {},
   "source": [
    "# 2. SECURITIES PRICES DATABASE EXAMPLE\n"
   ]
  },
  {
   "cell_type": "markdown",
   "metadata": {},
   "source": [
    "## PART 1: CREATE DATABASE, SCHEMA DESIGN AND CONSTRUCTION"
   ]
  },
  {
   "cell_type": "code",
   "execution_count": 5,
   "metadata": {},
   "outputs": [],
   "source": [
    "# Connection:\n",
    "db = connection_remote_config_file(path=\"C:\\\\Users\\\\Carlo\\\\Desktop\\\\SSH_KEYS\" ,filename='config.ini', section='mysql')\n",
    "connection_details('db')"
   ]
  },
  {
   "cell_type": "code",
   "execution_count": 7,
   "metadata": {},
   "outputs": [],
   "source": [
    "# Create Database:\n",
    "dbcursor = db.cursor(buffered=True) # buffered=True avoid connection loss after executing a query\n",
    "dbcursor.execute(\"CREATE DATABASE securities_master\")\n",
    "SHOW_DATABASES('db')# error if it already exists"
   ]
  },
  {
   "cell_type": "code",
   "execution_count": 5,
   "metadata": {},
   "outputs": [
    {
     "name": "stdout",
     "output_type": "stream",
     "text": [
      "Connection check:  True\n",
      "Server Host:  localhost\n",
      "Database: securities_master\n",
      "User:  Carlossn\n",
      "Server Port:  3306\n",
      "Connection ID:  547\n",
      "Unix Socket:  None\n",
      "Server Connection Character Set:  utf8\n",
      "Python Connection Character Set:  utf8\n"
     ]
    }
   ],
   "source": [
    "# Select Database:\n",
    "# let's reconnect again with an additional parameter:\n",
    "db = connection_remote_config_file(\"C:\\\\Users\\\\Carlo\\\\Desktop\\\\SSH_KEYS\" ,filename='config.ini', section='mysql', dbname='securities_master')\n",
    "connection_details('db')"
   ]
  },
  {
   "cell_type": "code",
   "execution_count": 6,
   "metadata": {},
   "outputs": [],
   "source": [
    "dbcursor = db.cursor(buffered=True) # buffered=True avoid connection loss after executing a query"
   ]
  },
  {
   "cell_type": "markdown",
   "metadata": {},
   "source": [
    "**IMPORTANT**\n",
    "\n",
    "Once you create a database it is necessary to add a new user to interact with the database. \n",
    "\n",
    "- While you can use the root user, it is considered bad practice from a security point of view, as it grants too many permissions and can lead to a compromised system. \n",
    "- On a local machine this is mostly irrelevant, but in a remote production environment you will certainly need to create a user with reduced permissions. \n",
    "- In this instance our user will be called sec_user. Remember to replace password with a secure password:\n",
    "\n",
    "        mysql> CREATE USER 'sec_user'@'localhost' IDENTIFIED BY 'password';\n",
    "    \n",
    "        mysql> GRANT ALL PRIVILEGES ON securities_master.* TO 'sec_user'@'localhost';\n",
    "    \n",
    "        mysql> FLUSH PRIVILEGES;"
   ]
  },
  {
   "cell_type": "markdown",
   "metadata": {},
   "source": [
    "**MySQL Storage Engines**:\n",
    "2 primary contenders in MySQL are MyISAM and InnoDB:\n",
    "\n",
    "   - **MyISAM**: more useful for fast reading (e.g.querying across large amounts of price information)\n",
    "        - It doesn't support transactions (necessary to fully rollback a multi-step operation that fails mid way through). \n",
    "        - MyISAM locks the entire table when writing to it, which can result in performance issues when writing a lot of information to arbitrary points in the table (such as with UPDATE statements). \n",
    "        \n",
    "\n",
    "   - **InnoDB**: version control engine (think about github in datbases) \n",
    "        - Transaction safe but slower for reads. \n",
    "        - InnoDB also allows row-level locking when making writes.\n",
    "        - If a table is slow to be read, it can firsty create indexes and then change the underlying storage engine if    performance is still an issue. \n",
    "    \n",
    "\n",
    "**Note**: we installed MySQL MyISAM (installer let's you choose), yet the example in the link uses InnoDB as it is natively transaction safe and provides row-level locking. All of our tables will use the UTF-8 character set, as we wish to support international exchanges. You can read more about UTF-8 encoding at this Wikipedia page."
   ]
  },
  {
   "cell_type": "markdown",
   "metadata": {},
   "source": [
    "### Schema Design\n",
    "\n",
    "The necessary tables to hold our financial data in securities_master database are:\n",
    "- **Exchange**: exchange table lists the exchanges we wish to obtain equities pricing information from. In this instance it will almost exclusively be the New York Stock Exchange (NYSE) and the National Association of Securities Dealers Automated Quotations (NASDAQ).\n",
    "- **DataVendor**: This table lists information about historical pricing data vendors. We will be using Yahoo Finance to source our end-of-day (EOD) data. By introducing this table, we make it straightforward to add more vendors if necessary, such as Google Finance.\n",
    "- **Symbol**: The symbol table stores the list of ticker symbols and company information. Right now we will be avoiding issues such as differing share classes and multiple symbol names. \n",
    "- **DailyPrice**: This table stores the daily pricing information for each security. It can become very large if many securities are added. Hence it is necessary to optimise it for performance."
   ]
  },
  {
   "cell_type": "code",
   "execution_count": 118,
   "metadata": {},
   "outputs": [],
   "source": [
    "# Create \"Exchange\" Table\n",
    "exchange_query = \"CREATE TABLE exchange (exchange_id varchar(32) NOT NULL, abbrev varchar(32) NOT NULL, \\\n",
    "                    name varchar(255) NOT NULL, city varchar(255) NULL, country varchar(255) NULL, \\\n",
    "                    currency varchar(64) NULL, timezone_offset time NULL, created_date datetime NOT NULL, \\\n",
    "                    last_updated_date datetime NOT NULL, PRIMARY KEY (exchange_id))\"\n",
    "dbcursor.execute(exchange_query)"
   ]
  },
  {
   "cell_type": "code",
   "execution_count": 27,
   "metadata": {},
   "outputs": [],
   "source": [
    "# Create \"data_vendor\" Table\n",
    "datavendor_query = \"CREATE TABLE data_vendor (data_vendor_id int NOT NULL, name varchar(64) NOT NULL,\\\n",
    "                    website_url varchar(255) NULL, support_email varchar(255) NULL, created_date datetime NOT NULL,\\\n",
    "                    last_updated_date datetime NOT NULL, PRIMARY KEY (data_vendor_id))\"\n",
    "dbcursor.execute(datavendor_query)"
   ]
  },
  {
   "cell_type": "code",
   "execution_count": 81,
   "metadata": {},
   "outputs": [],
   "source": [
    "dbcursor.execute('DROP TABLES symbol')"
   ]
  },
  {
   "cell_type": "code",
   "execution_count": 83,
   "metadata": {},
   "outputs": [],
   "source": [
    "# Create \"symbol\" Table\n",
    "symbol_query = \"CREATE TABLE symbol (cik_id int NOT NULL, exchange_id varchar(32) NULL, ticker varchar(32) NOT NULL,\\\n",
    "            ticker_ex varchar(32) NOT NULL, instrument varchar(64) NOT NULL, name varchar(255) NULL,\\\n",
    "            sector varchar(255) NULL, industry varchar(255), currency varchar(32) NULL, created_date datetime NOT NULL,\\\n",
    "            last_updated_date datetime NOT NULL, PRIMARY KEY (ticker), KEY index_exchange_id (exchange_id))\"\n",
    "dbcursor.execute(symbol_query)"
   ]
  },
  {
   "cell_type": "code",
   "execution_count": 31,
   "metadata": {},
   "outputs": [],
   "source": [
    "# Create \"daily_price\" Table\n",
    "dprice_query = \"CREATE TABLE daily_price ( id int NOT NULL AUTO_INCREMENT, data_vendor_id int NOT NULL,\\\n",
    "                ticker_ex varchar(32) NOT NULL, price_date datetime NOT NULL, created_date datetime NOT NULL,\\\n",
    "                last_updated_date datetime NOT NULL, open_price decimal(19,4) NULL, high_price decimal(19,4) NULL,\\\n",
    "                low_price decimal(19,4) NULL, close_price decimal(19,4) NULL, adj_close_price decimal(19,4) NULL,\\\n",
    "                volume bigint NULL, PRIMARY KEY (id), KEY index_data_vendor_id (data_vendor_id),\\\n",
    "                KEY ticker_ex (ticker_ex))\"\n",
    "dbcursor.execute(dprice_query)"
   ]
  },
  {
   "cell_type": "markdown",
   "metadata": {},
   "source": [
    "Let's check our tables are in our database using 2 options: \n",
    "\n",
    "- 1) fetchall() \n",
    "- 2) looping"
   ]
  },
  {
   "cell_type": "code",
   "execution_count": 7,
   "metadata": {},
   "outputs": [
    {
     "data": {
      "text/plain": [
       "[('daily_price',), ('data_vendor',), ('exchange',), ('symbol',)]"
      ]
     },
     "execution_count": 7,
     "metadata": {},
     "output_type": "execute_result"
    }
   ],
   "source": [
    "# 1) fetchall: only if the output is small\n",
    "dbcursor.execute(\"SHOW TABLES\")\n",
    "tables = dbcursor.fetchall()   \n",
    "tables"
   ]
  },
  {
   "cell_type": "code",
   "execution_count": 8,
   "metadata": {},
   "outputs": [
    {
     "name": "stdout",
     "output_type": "stream",
     "text": [
      "daily_price\n",
      "data_vendor\n",
      "exchange\n",
      "symbol\n"
     ]
    }
   ],
   "source": [
    "# 2) Looping:\n",
    "dbcursor.execute(\"SHOW TABLES\")\n",
    "for (table_name,) in dbcursor:\n",
    "        print(table_name)"
   ]
  },
  {
   "cell_type": "markdown",
   "metadata": {},
   "source": [
    "Let's check one of the tables:"
   ]
  },
  {
   "cell_type": "code",
   "execution_count": 7,
   "metadata": {},
   "outputs": [],
   "source": [
    "dbcursor.execute(\"DESCRIBE symbol\")\n",
    "symbol_des = dbcursor.fetchall()   \n",
    "symbol_des"
   ]
  },
  {
   "cell_type": "code",
   "execution_count": 112,
   "metadata": {},
   "outputs": [],
   "source": [
    "def query_with_fetchall(connection_name, query, get_object=False):\n",
    "    '''\n",
    "    Print rows from all the query output list return when using cursor.fetchall()\n",
    "    connection_name = string. Object name of the db connection object.\n",
    "    query: string. SQL syntax query.\n",
    "    get_object: boolean. False default. if true, it will return a python object with query results\n",
    "    '''\n",
    "    from mysql.connector import Error\n",
    "    conn = eval(connection_name)\n",
    "    cursor_ = conn.cursor(buffered=True)\n",
    "    query_list=[]\n",
    "    try:\n",
    "        cursor_.execute(query)\n",
    "        rows = cursor_.fetchall()\n",
    " \n",
    "        print('Total Row(s):', cursor_.rowcount)\n",
    "        for row in rows:\n",
    "            print(row)\n",
    "    \n",
    "    except Error as e:\n",
    "        print(e)\n",
    "    if get_object==True:\n",
    "        return rows"
   ]
  },
  {
   "cell_type": "markdown",
   "metadata": {},
   "source": [
    "Use fetchall when the number of rows in the table is small:"
   ]
  },
  {
   "cell_type": "code",
   "execution_count": 114,
   "metadata": {},
   "outputs": [
    {
     "name": "stdout",
     "output_type": "stream",
     "text": [
      "Total Row(s): 11\n",
      "('cik_id', b'int(11)', 'NO', bytearray(b''), None, bytearray(b''))\n",
      "('exchange_id', b'varchar(32)', 'YES', bytearray(b'MUL'), None, bytearray(b''))\n",
      "('ticker', b'varchar(32)', 'NO', bytearray(b'PRI'), None, bytearray(b''))\n",
      "('ticker_ex', b'varchar(32)', 'NO', bytearray(b''), None, bytearray(b''))\n",
      "('instrument', b'varchar(64)', 'NO', bytearray(b''), None, bytearray(b''))\n",
      "('name', b'varchar(255)', 'YES', bytearray(b''), None, bytearray(b''))\n",
      "('sector', b'varchar(255)', 'YES', bytearray(b''), None, bytearray(b''))\n",
      "('industry', b'varchar(255)', 'YES', bytearray(b''), None, bytearray(b''))\n",
      "('currency', b'varchar(32)', 'YES', bytearray(b''), None, bytearray(b''))\n",
      "('created_date', b'datetime', 'NO', bytearray(b''), None, bytearray(b''))\n",
      "('last_updated_date', b'datetime', 'NO', bytearray(b''), None, bytearray(b''))\n"
     ]
    }
   ],
   "source": [
    "query_with_fetchall('db','DESCRIBE symbol')"
   ]
  },
  {
   "cell_type": "markdown",
   "metadata": {},
   "source": [
    "Use fetchmany() for large tables as it returns the next number of rows (n) of the result set, which allows us to balance between time and memory spac:"
   ]
  },
  {
   "cell_type": "code",
   "execution_count": 115,
   "metadata": {},
   "outputs": [],
   "source": [
    "def query_with_fetchmany(connection_name,query, size_, get_object=True):\n",
    "    '''\n",
    "    Print n rows from all the query output \n",
    "    Params\n",
    "    ------\n",
    "    connection_name = string. Object name of the db connection object.\n",
    "    query: string. SQL syntax query.\n",
    "    size: integer. Number of rows from the query output to be displayed.\n",
    "    get_object: boolean. False default. if true, it will return a python object with query results\n",
    "\n",
    "    '''\n",
    "    from mysql.connector import Error\n",
    "\n",
    "    conn = eval(connection_name)\n",
    "    cursor_ = conn.cursor(buffered=True)\n",
    "\n",
    "    try:\n",
    "        cursor_.execute(query)\n",
    "        rows = cursor_.fetchmany(size_)\n",
    "        \n",
    "        for row in rows:\n",
    "            print(row)\n",
    " \n",
    "    except Error as e:\n",
    "        print(e)\n",
    "    if get_object==True:\n",
    "        return rows"
   ]
  },
  {
   "cell_type": "code",
   "execution_count": 116,
   "metadata": {},
   "outputs": [
    {
     "data": {
      "text/plain": [
       "[('cik_id', b'int(11)', 'NO', bytearray(b''), None, bytearray(b'')),\n",
       " ('exchange_id',\n",
       "  b'varchar(32)',\n",
       "  'YES',\n",
       "  bytearray(b'MUL'),\n",
       "  None,\n",
       "  bytearray(b''))]"
      ]
     },
     "execution_count": 116,
     "metadata": {},
     "output_type": "execute_result"
    }
   ],
   "source": [
    "# using mysql.connect tools:\n",
    "dbcursor.execute('DESCRIBE symbol')\n",
    "dbcursor.fetchmany(2) # output not visually appealing"
   ]
  },
  {
   "cell_type": "code",
   "execution_count": 111,
   "metadata": {},
   "outputs": [
    {
     "name": "stdout",
     "output_type": "stream",
     "text": [
      "('cik_id', b'int(11)', 'NO', bytearray(b''), None, bytearray(b''))\n",
      "('exchange_id', b'varchar(32)', 'YES', bytearray(b'MUL'), None, bytearray(b''))\n"
     ]
    }
   ],
   "source": [
    "# visual friendly output\n",
    "query_with_fetchmany('db','DESCRIBE symbol',2)"
   ]
  },
  {
   "cell_type": "markdown",
   "metadata": {},
   "source": [
    "## Part 2. Feeding tables with data\n",
    "\n",
    "Easy as we only have 1 data vendor (yahoo) and 1 exchange (NYSE) so we only need to feed it manually:"
   ]
  },
  {
   "cell_type": "markdown",
   "metadata": {},
   "source": [
    "### data_vendor TABLE"
   ]
  },
  {
   "cell_type": "code",
   "execution_count": 15,
   "metadata": {},
   "outputs": [],
   "source": [
    "def replace_(text, old, new):\n",
    "    '''\n",
    "    replace multiple old strings at once\n",
    "    Params\n",
    "    ------\n",
    "    text = string. Entire text where the (old) characters to be replaced are.\n",
    "    old = list of strings in old to be replaced\n",
    "    new = string\n",
    "    '''    \n",
    "    for o in old:\n",
    "        text = text.replace(o, new)\n",
    "    return text"
   ]
  },
  {
   "cell_type": "markdown",
   "metadata": {},
   "source": [
    "replace_ and the next method are stored in **mysql_database.py**:"
   ]
  },
  {
   "cell_type": "code",
   "execution_count": 86,
   "metadata": {},
   "outputs": [],
   "source": [
    "def insert_data_vendor(data_vendor_id,name, website_url, support_email, created_date,\n",
    "                      path ,filename='config.ini', section='mysql', dbname=None):\n",
    "    '''\n",
    "    Insert a new vendor in \"data_vendor\" table\n",
    "    Params\n",
    "    data_vendor_id: integer. e.g. 1 for yahoofinance\n",
    "    name: string.\n",
    "    website_url: string.\n",
    "    support_webil: db.closeg. \n",
    "    created_date: format 'YYYY-MM_DD'. First time a vendor is entered into the db. \n",
    "    path: string with the windows location of the config file e.g. \"C:\\\\Users\\\\User_name\\\\Desktop\\\\SSH_KEYS\"\n",
    "    filename: string name of the configuration file. Default is finding a file named \"config.ini\"\n",
    "    section: section of database configuration. Default is calling that section within the config file as \"mysql\"\n",
    "    dbname: string name of database name to connect. Default is None.\n",
    "\n",
    "    '''\n",
    "    # Connect with db and create cursor:\n",
    "    db = connection_remote_config_file(path,filename, section, dbname)\n",
    "    dbcursor = db.cursor(buffered=True)\n",
    "    #  retrieve fields from \"data_vendor\" table\n",
    "    dbcursor.execute('DESCRIBE data_vendor')\n",
    "    des=dbcursor.fetchall()\n",
    "    cols = [x[0] for x in des]\n",
    "    #automate query\n",
    "    query = 'INSERT INTO data_vendor('+str(cols)+') VALUES('+('%s,'*len(cols))[:-1]+')'\n",
    "    query = replace_(query,['[',']','\\''],'')\n",
    "    # Execute query:\n",
    "    dbcursor.execute(query, [data_vendor_id, name, website_url,support_mail, created_date, dt.date.today()])\n",
    "    # Commit query to server db (save changes) and close db connection \n",
    "    db.commit()\n",
    "    db.close()    "
   ]
  },
  {
   "cell_type": "code",
   "execution_count": null,
   "metadata": {},
   "outputs": [],
   "source": [
    "# execute:\n",
    "insert_data_vendor(1, 'yahoo','https://finance.yahoo.com/', 'Not Available','2018-02-14',\n",
    "                path=\"C:\\\\Users\\\\Carlo\\\\Desktop\\\\SSH_KEYS\" , \n",
    "                filename='config.ini', section='mysql', dbname='securities_master')"
   ]
  },
  {
   "cell_type": "code",
   "execution_count": null,
   "metadata": {},
   "outputs": [],
   "source": [
    "#check\n",
    "db = connection_remote_config_file(\"C:\\\\Users\\\\Carlo\\\\Desktop\\\\SSH_KEYS\" ,filename='config.ini', section='mysql', dbname='securities_master')\n",
    "dbcursor = db.cursor(buffered=True)\n",
    "query_with_fetchall('dbcursor','SELECT * FROM data_vendor')\n",
    "db.close()"
   ]
  },
  {
   "cell_type": "markdown",
   "metadata": {},
   "source": [
    "### exchange TABLE"
   ]
  },
  {
   "cell_type": "markdown",
   "metadata": {},
   "source": [
    "The next method stored in **mysql_database.py** :"
   ]
  },
  {
   "cell_type": "code",
   "execution_count": null,
   "metadata": {},
   "outputs": [],
   "source": [
    "def insert_exchange(exchange_id, abbrev, name, city, country, currency, created_date,\n",
    "                    path ,filename='config.ini', section='mysql', dbname=None, timezone='America/New_York'):\n",
    "    '''\n",
    "    Insert a new exchange in \"exchange\" table\n",
    "    Params\n",
    "    ------\n",
    "    exchange_id: string. e.g. US\n",
    "    abbrev: string. e.g. 'NYSE\n",
    "    name: string. e.g. New York Stock Exchange\n",
    "    city: string. e.g. New York\n",
    "    country: string. e.g. US\n",
    "    currency: string. e.g. USD\n",
    "    created_date: format 'YYYY-MM_DD'. First time an exchange is entered into the db. \n",
    "    path: string with the windows location of the config file e.g. \"C:\\\\Users\\\\User_name\\\\Desktop\\\\SSH_KEYS\"\n",
    "    filename: string name of the configuration file. Default is finding a file named \"config.ini\"\n",
    "    section: section of database configuration. Default is calling that section within the config file as \"mysql\"\n",
    "    dbname: string name of database name to connect. Default is None.\n",
    "    timezone_offset: default \"America/New_York\". For others do:\n",
    "        import pytz\n",
    "        pytz.all_timezones\n",
    "\n",
    "\n",
    "    '''\n",
    "    # Connect with db and create cursor:\n",
    "    db = connection_remote_config_file(path,filename, section, dbname)\n",
    "    dbcursor = db.cursor(buffered=True)\n",
    "    #  retrieve fields from \"exchange\" table\n",
    "    bcursor.execute('DESCRIBE exchange')\n",
    "    des=dbcursor.fetchall()\n",
    "    cols = [x[0] for x in des]\n",
    "    #automate query\n",
    "    query = 'INSERT INTO exchange('+str(cols)+') VALUES('+('%s,'*len(cols))[:-1]+')'\n",
    "    query = replace_(query,['[',']','\\''],'')\n",
    "    # Timezone translation:\n",
    "    tz_ = pytz.timezone(timezone)\n",
    "    tz_dt= dt_now = dt.datetime.now(tz=tz_)\n",
    "    # Execute query:\n",
    "    dbcursor.execute(query, [exchange_id, abbrev,name ,city, country,currency, tz_dt, created_date, dt.date.today()])\n",
    "    # Commit query to server db (save changes) and close db connection \n",
    "    db.commit()\n",
    "    db.close()    "
   ]
  },
  {
   "cell_type": "code",
   "execution_count": null,
   "metadata": {},
   "outputs": [],
   "source": [
    "# execute:\n",
    "insert_exchange('US', 'NYSE','New York Stock Exchange' 'New York','US','USD','2018-02-14',\n",
    "                path=\"C:\\\\Users\\\\Carlo\\\\Desktop\\\\SSH_KEYS\" , \n",
    "                filename='config.ini', section='mysql', dbname='securities_master',timezone='America/New_York')"
   ]
  },
  {
   "cell_type": "code",
   "execution_count": null,
   "metadata": {},
   "outputs": [],
   "source": [
    "# check\n",
    "db = connection_remote_config_file(\"C:\\\\Users\\\\Carlo\\\\Desktop\\\\SSH_KEYS\" ,filename='config.ini', section='mysql', dbname='securities_master')\n",
    "dbcursor = db.cursor(buffered=True)\n",
    "query_with_fetchall('dbcursor','SELECT * FROM exchange')\n",
    "db.close()"
   ]
  },
  {
   "cell_type": "markdown",
   "metadata": {},
   "source": [
    "### Feeding 'symbol' with SP500 members info"
   ]
  },
  {
   "cell_type": "code",
   "execution_count": 70,
   "metadata": {},
   "outputs": [],
   "source": [
    "import pandas as pd\n",
    "sp500 = pd.read_csv('ticker_sp500.csv')\n",
    "sp500.head()"
   ]
  },
  {
   "cell_type": "markdown",
   "metadata": {},
   "source": [
    "The next method stored in **mysql_database.py**:"
   ]
  },
  {
   "cell_type": "code",
   "execution_count": null,
   "metadata": {},
   "outputs": [],
   "source": [
    "def insert_symbol(file_name, created_date, path ,filename='config.ini', section='mysql', dbname=None):\n",
    "    '''\n",
    "    Insert a new symbol(s) in \"symbol\" table\n",
    "    Params\n",
    "    ------\n",
    "    csv_file_name: string. e.g.'ticker.csv'\n",
    "    created_date: format 'YYYY-MM_DD'. First time an exchange is entered into the db. \n",
    "    path: string with the windows location of the config file e.g. \"C:\\\\Users\\\\User_name\\\\Desktop\\\\SSH_KEYS\"\n",
    "    filename: string name of the configuration file. Default is finding a file named \"config.ini\"\n",
    "    section: section of database configuration. Default is calling that section within the config file as \"mysql\"\n",
    "    dbname: string name of database name to connect. Default is None.\n",
    "    '''\n",
    "    # data import:\n",
    "    data = pd.read_csv(file_name)\n",
    "    # Connect with db and create cursor:\n",
    "    db = connection_remote_config_file(path,filename, section, dbname)\n",
    "    dbcursor = db.cursor(buffered=True)\n",
    "    #  retrieve fields from \"symbol\" table\n",
    "    dbcursor.execute('DESCRIBE symbol')\n",
    "    des=dbcursor.fetchall()\n",
    "    cols = [x[0] for x in des]\n",
    "    # Enter changes:\n",
    "    data['cik_id'] = data['cik_id'].apply(str) \n",
    "    data['created_date'] = created_date \n",
    "    data['last_updated_date'] = str(dt.date.today())     \n",
    "    #automate query\n",
    "    query = 'INSERT INTO symbol('+str(cols)+') VALUES('+(' %s,'*len(cols))[:-1]+')'\n",
    "    query = replace_(query,['[',']','\\''],'')\n",
    "    # create param_list for \"data\" param in dbcursor.executemany(query,data)\n",
    "    param_list=[]\n",
    "    for i in range(0,len(data)-1):\n",
    "        data_d = dict(data.loc[i,:])\n",
    "        data_t = tuple([data_d[x] for x in cols]) # use cols from our symbol query to get the right order from the sp500 imported data\n",
    "        param_list.append(data_t)\n",
    "    # Execute query:\n",
    "    dbcursor.executemany(query, param_list)\n",
    "    # Commit query to server db (save changes) and close db connection \n",
    "    db.commit()\n",
    "    db.close()    "
   ]
  },
  {
   "cell_type": "code",
   "execution_count": null,
   "metadata": {},
   "outputs": [],
   "source": [
    "# execute:\n",
    "insert_symbol('ticker_sp500.csv', '2018-02-14', \n",
    "              path=\"C:\\\\Users\\\\Carlo\\\\Desktop\\\\SSH_KEYS\" ,\n",
    "              filename='config.ini', section='mysql', dbname='securities_master')"
   ]
  },
  {
   "cell_type": "code",
   "execution_count": 12,
   "metadata": {},
   "outputs": [],
   "source": [
    "# Check \n",
    "db = connection_remote_config_file(\"C:\\\\Users\\\\Carlo\\\\Desktop\\\\SSH_KEYS\" ,filename='config.ini', section='mysql', dbname='securities_master')\n",
    "dbcursor = db.cursor(buffered=True)\n",
    "query_with_fetchmany('dbcursor','SELECT * FROM symbol',3) # top 3 results\n",
    "db.close()"
   ]
  },
  {
   "cell_type": "markdown",
   "metadata": {},
   "source": [
    "### Feeding 'daily_price' with SP500 members data\n",
    "\n",
    "Let's obtain data from yahoo and insert into daily_price table of our database"
   ]
  },
  {
   "cell_type": "code",
   "execution_count": 71,
   "metadata": {},
   "outputs": [],
   "source": [
    "import pandas as pd\n",
    "sp500_tickers = pd.read_csv('ticker_sp500.csv')['ticker_ex']\n",
    "sp500_tickers.head()"
   ]
  },
  {
   "cell_type": "code",
   "execution_count": 84,
   "metadata": {},
   "outputs": [],
   "source": [
    "def insert_price_data_yahoo(ticker_list, created_date, start='1999-12-31',end='2018-12-31', \n",
    "                            path ,filename='config.ini', section='mysql', dbname=None):\n",
    "    '''\n",
    "    Insert yahoo price data into daily_price table into database\n",
    "    Params\n",
    "    -----\n",
    "    ticker_list = List of tickers to be retrieved.\n",
    "    start = Date of updated entry. Introduce today date as format 'YYYY-MM-DD'.\n",
    "    start = start date to retrieve data. Format 'YYYY-MM-DD'.\n",
    "    end = end date to retrieve data. Format 'YYYY-MM-DD'.\n",
    "    path: string with the windows location of the config file e.g. \"C:\\\\Users\\\\User_name\\\\Desktop\\\\SSH_KEYS\"\n",
    "    filename: string name of the configuration file. Default is finding a file named \"config.ini\"\n",
    "    section: section of database configuration. Default is calling that section within the config file as \"mysql\"\n",
    "    dbname: string name of database name to connect. Default is None.\n",
    "\n",
    "    \n",
    "    '''\n",
    "    import pandas_datareader.data as web\n",
    "    import datetime as dt\n",
    "\n",
    "    # Gather daily_price fields:\n",
    "    db = connection_remote_config_file(path ,filename, section, dbname)\n",
    "    dbcursor = db.cursor(buffered=True)\n",
    "    dbcursor.execute('DESCRIBE daily_price')\n",
    "    des=dbcursor.fetchall()\n",
    "    cols = [x[0] for x in des]\n",
    "    cols=cols[1:] # 1st field \"id\" in cols is an Auto Increment field so it doesn't need to be part of the query\n",
    "    db.close() # close db connection\n",
    "    #automate query\n",
    "    query = 'INSERT INTO daily_price('+str(cols)+') VALUES('+(' %s,'*len(cols))[:-1]+')'\n",
    "    query = replace_(query,['[',']','\\''],'') # replace_ is an auxiliary method\n",
    "\n",
    "    for i in ticker_list:\n",
    "        # get data and transform:\n",
    "        i_yahoo = i[:-2].strip() # ticker only excluding MKT so that yahoo can recognizr it e.g. MMM US  => MMM\n",
    "        df = web.DataReader(i_yahoo, 'yahoo', start, end)\n",
    "        df['price_date'] = list(map(lambda x: x.strftime('%Y-%m-%d %H:%M:%S'),df.index)) # otherwise mysql doesn't recognize timestamp type\n",
    "        df['ticker_ex'] = i\n",
    "        df['created_date'] = '2019-02-14' \n",
    "        df['last_updated_date'] = str(dt.date.today())\n",
    "        df['data_vendor_id']= str(1)\n",
    "        df.rename(columns={'Open':'open_price','High':'high_price','Low':'low_price',\n",
    "                       'Close':'close_price','Adj Close':'adj_close_price', 'Volume':'volume'}, inplace=True)\n",
    "        # obtain ticker data rows (dates) stored as param for insert sql query\n",
    "        param_= []\n",
    "        for l in range(0,len(df)-1):\n",
    "            param = tuple([df.iloc[l,:][x] for x in cols]) # use cols from our daily_price query to get the right order from df dowloaded data. \n",
    "            param_.append(param)\n",
    "        # reconnect db:\n",
    "        db = db.reconnect(attempts=3) # connect back \n",
    "        db.set_converter_class(NumpyMySQLConverter) # allow python float and int to be accepted by mysql\n",
    "        dbcursor = db.cursor(buffered=True) \n",
    "        # insert ticker price info into db:\n",
    "        try:\n",
    "            dbcursor.executemany(query, param_)\n",
    "        except:\n",
    "            db.reconnect(attempts=3)\n",
    "            db.set_converter_class(NumpyMySQLConverter)\n",
    "            dbcursor.executemany(query, param_)        \n",
    "        # Commit to server db (save changes) and close db connection before looping to next ticker\n",
    "        db.commit()\n",
    "        db.close()"
   ]
  },
  {
   "cell_type": "code",
   "execution_count": 85,
   "metadata": {},
   "outputs": [],
   "source": [
    "# careful as it takes a lot of time:\n",
    "insert_price_data_yahoo(sp500_tickers,'2019-02-15',start='1999-12-31',end='2018-12-31',\n",
    "                        path=\"C:\\\\Users\\\\Carlo\\\\Desktop\\\\SSH_KEYS\" ,\n",
    "                        filename='config.ini', section='mysql', dbname='securities_master'))"
   ]
  },
  {
   "cell_type": "code",
   "execution_count": 90,
   "metadata": {},
   "outputs": [],
   "source": [
    "# check:\n",
    "db = connection_remote_config_file(\"C:\\\\Users\\\\Carlo\\\\Desktop\\\\SSH_KEYS\" ,filename='config.ini', section='mysql', dbname='securities_master')\n",
    "dbcursor = db.cursor(buffered=True)\n",
    "query_with_fetchall('dbcursor',\"SELECT * FROM daily_price where ticker_ex='MMM US'\")\n",
    "db.close()"
   ]
  },
  {
   "cell_type": "markdown",
   "metadata": {},
   "source": [
    "**Note**: all the functions are ready to use in mysql_database.py file so just import this file in another script if you want to use them:"
   ]
  },
  {
   "cell_type": "code",
   "execution_count": null,
   "metadata": {},
   "outputs": [],
   "source": [
    "import mysql_database"
   ]
  }
 ],
 "metadata": {
  "kernelspec": {
   "display_name": "base_py37",
   "language": "python",
   "name": "base_py37"
  },
  "language_info": {
   "codemirror_mode": {
    "name": "ipython",
    "version": 3
   },
   "file_extension": ".py",
   "mimetype": "text/x-python",
   "name": "python",
   "nbconvert_exporter": "python",
   "pygments_lexer": "ipython3",
   "version": "3.7.0"
  }
 },
 "nbformat": 4,
 "nbformat_minor": 2
}
